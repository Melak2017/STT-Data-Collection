{
 "cells": [
  {
   "cell_type": "code",
   "execution_count": 3,
   "metadata": {},
   "outputs": [],
   "source": [
    "from pyspark.sql import SparkSession\n"
   ]
  },
  {
   "cell_type": "code",
   "execution_count": 4,
   "metadata": {},
   "outputs": [
    {
     "name": "stdout",
     "output_type": "stream",
     "text": [
      "22/07/08 15:37:12 WARN Utils: Your hostname, martin-HP-EliteBook-x360-1030-G2 resolves to a loopback address: 127.0.1.1; using 192.168.0.106 instead (on interface wlp58s0)\n",
      "22/07/08 15:37:12 WARN Utils: Set SPARK_LOCAL_IP if you need to bind to another address\n"
     ]
    },
    {
     "name": "stderr",
     "output_type": "stream",
     "text": [
      "Setting default log level to \"WARN\".\n",
      "To adjust logging level use sc.setLogLevel(newLevel). For SparkR, use setLogLevel(newLevel).\n"
     ]
    },
    {
     "name": "stdout",
     "output_type": "stream",
     "text": [
      "22/07/08 15:37:13 WARN NativeCodeLoader: Unable to load native-hadoop library for your platform... using builtin-java classes where applicable\n"
     ]
    }
   ],
   "source": [
    "spark = SparkSession.builder.appName('testing').getOrCreate()"
   ]
  },
  {
   "cell_type": "code",
   "execution_count": 5,
   "metadata": {},
   "outputs": [
    {
     "name": "stderr",
     "output_type": "stream",
     "text": [
      "                                                                                \r"
     ]
    }
   ],
   "source": [
    "df_pyspark = spark.read.csv('../data/Amharic News Dataset.csv',header=True,inferSchema=True)"
   ]
  },
  {
   "cell_type": "code",
   "execution_count": 6,
   "metadata": {},
   "outputs": [
    {
     "name": "stdout",
     "output_type": "stream",
     "text": [
      "+--------------------+--------------------+-----------------+-----+--------------------+--------------------+\n",
      "|            headline|            category|             date|views|             article|                link|\n",
      "+--------------------+--------------------+-----------------+-----+--------------------+--------------------+\n",
      "|የኦሊምፒክ ማጣሪያ ተሳታፊዎ...|                ስፖርት| January 14, 2021|    2|ብርሃን ፈይሳየኢትዮጵያ ቦክ...|https://www.press...|\n",
      "|          አዲስ ዘመን ድሮ|                መዝናኛ|December 28, 2020|    4| የአዲስ ዘመን ጋዜጣ ቀደም...|                null|\n",
      "|      መንገድ በመከተል አልፎ|                null|             null| null|                null|                null|\n",
      "|      አልፎ በሚገኙት ሰፈሮች|                null|             null| null|                null|                null|\n",
      "|       ብዙዎች የልኳንዳ ሥጋ|                null|             null| null|                null|                null|\n",
      "|የተሰቀለባቸውና   ፉርኖ ይ...|https://www.press...|             null| null|                null|                null|\n",
      "|የአረንጓዴ ጎርፍ በጎ አድራ...|                ስፖርት|  January 6, 2021|    6|ቦጋለ አበበየአዲስ አበባ ከ...|https://www.press...|\n",
      "|የሊጉ በቢዝነስ ሞዴል መመራ...|                ስፖርት|  January 6, 2021|    5|ብርሃን ፈይሳአዲስ አበባ፡-...|                null|\n",
      "|(2012ዓም) የሊግ ኮሚቴ ...|https://www.press...|             null| null|                null|                null|\n",
      "|የኦሊምፒክ ሥራ አስፈፃሚው ...|                ስፖርት|  January 6, 2021|   12|ቦጋለ አበበ የኢትዮጵያ ኦሊ...|                null|\n",
      "|                 ክልል|                null|             null| null|                null|                null|\n",
      "|                 ርዕሰ|                null|             null| null|                null|                null|\n",
      "|              መስተዳድር|                null|             null| null|                null|                null|\n",
      "|              ፕሬዚዳንት|                null|             null| null|                null|                null|\n",
      "|                  አቶ|                null|             null| null|                null|                null|\n",
      "|                 ደስታ|                null|             null| null|                null|                null|\n",
      "|                 ሌዳሞ|                null|             null| null|                null|                null|\n",
      "|               ጉባኤውን|                null|             null| null|                null|                null|\n",
      "|               በንግግር|                null|             null| null|                null|                null|\n",
      "|                የከፈቱ|                null|             null| null|                null|                null|\n",
      "+--------------------+--------------------+-----------------+-----+--------------------+--------------------+\n",
      "only showing top 20 rows\n",
      "\n"
     ]
    }
   ],
   "source": [
    "df_pyspark.show()"
   ]
  },
  {
   "cell_type": "code",
   "execution_count": null,
   "metadata": {},
   "outputs": [],
   "source": []
  }
 ],
 "metadata": {
  "kernelspec": {
   "display_name": "Python 3 (ipykernel)",
   "language": "python",
   "name": "python3"
  },
  "language_info": {
   "codemirror_mode": {
    "name": "ipython",
    "version": 3
   },
   "file_extension": ".py",
   "mimetype": "text/x-python",
   "name": "python",
   "nbconvert_exporter": "python",
   "pygments_lexer": "ipython3",
   "version": "3.9.13"
  },
  "vscode": {
   "interpreter": {
    "hash": "40dbe6c08ee1f4e62831bdf24b8682651b06990a4ed4c49c23d4d9e6c535dae2"
   }
  }
 },
 "nbformat": 4,
 "nbformat_minor": 2
}
