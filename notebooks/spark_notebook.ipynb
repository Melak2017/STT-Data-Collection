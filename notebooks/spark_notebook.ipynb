{
 "cells": [
  {
   "cell_type": "markdown",
   "metadata": {},
   "source": [
    "# ETL Pipelines with Apache tools(Kafka,Airflow,Spark)"
   ]
  },
  {
   "cell_type": "markdown",
   "metadata": {},
   "source": [
    "This week, 10 Academy is your client. Recognizing the value of large data sets for speech-t0-text data sets, and seeing the opportunity that there are many text corpuses for both languages, and understanding that complex data engineering skills is valuable to your profile for employers, this week’s task is simple: design and build a robust, large scale, fault tolerant, highly available Kafka cluster that can be used to post a sentence and receive an audio file. \n",
    "By the end of this project, you should produce a tool that can be deployed to process posting and receiving text and audio files from and into a data lake, apply transformation in a distributed manner, and load it into a warehouse in a suitable format to train a speech-t0-text model.  \n"
   ]
  },
  {
   "cell_type": "markdown",
   "metadata": {},
   "source": [
    "The first approach we could think of is hitting the model directly, that is we fail to use the spark,kafka and airflow, and this will run smoothly for some while but remember that,\n",
    "You might want to have a streaming app that captures logs of all the apps in a company and all can be redirected to common logging space.\n",
    "You might have real-time transactions and you can fail to understand how to manipulate them in real time (that is in a few seconds).\n",
    "You might build a set of micro services that perform complex business logic \n",
    "So what we need is some brokerage, monitoring and scheduling services which we can employ to furnish our models. Once we put this services in place then we shall be able to manage the following issues,\n",
    "Huge chunks of data streams.\n",
    "Faster processing and speeds when translating.\n",
    "No unnecessary crushing of the processing server because the data streaming in is quite huge.\n",
    "Therefore that is why I stick to the latter approach. I have displayed a diagram above that shows how the approach ties together, which I shall be explaining in my second point.\n",
    " \n",
    " \n",
    "\n",
    "\n"
   ]
  },
  {
   "cell_type": "markdown",
   "metadata": {},
   "source": [
    "# Kafka, Airflow, Spark - Definition and Usage"
   ]
  },
  {
   "cell_type": "markdown",
   "metadata": {},
   "source": [
    "I shall start with explaining their definitions, \n",
    "\n",
    "## Apache Kafka \n",
    "is a distributed messaging platform that allows you to sequentially log streaming data into topic-specific feeds, which other applications in turn can tap into.Remember Kafka is one of the go-to platforms when you have to deal with streaming data. Its framework basically consists of three players, being 1) brokers; 2) producers; and 3) consumers. A broker is an instance of a Kafka server (also known as a Kafka node) that hosts named streams of records, which are called topics. A broker takes in messages from producers and stores them to a topic. It in turn enables consumers to fetch messages from a topic. In its simplest form, you have one single producer pushing messages to one end of a topic, whilst one single consumer fetches messages from the other end of the topic (like for example an app).What if you for example have 100,000 messages coming in per minute from a producer, which in turn ought to be consumed in a swift and efficient fashion? One way to tackle this would be to bring together multiple brokers in a Kafka cluster (let’s say 10) with each broker getting assigned a so-called partition of the topic. Along this way, each unique message would then be appended to a single partition as it comes in. Then, you could assign each partition to a single consumer — with the end-result being 10 consumers processing 10,000 messages in parallel. We shall be creating a kafka cluster, and storing the texts in different topic partitions, the topic partitions depend on how we shall have classified the data.\n",
    "\n",
    "\n",
    "## Apache Airflow \n",
    "is a task scheduling platform that allows you to create, orchestrate and monitor data workflows. We shall schedule the texts coming from the queue, and also we shall prioritize the tasks.We can create a DAG around it so that Airflow can periodically trigger a stream of data that is pushed by the Producer into the topic. You will find exactly the DAG that does this. Let’s park the actual ‘trigger’-part of the DAG for now and move on to the part where we periodically fetch data from the topic, which is then used to update the model.The only thing that’s remaining on the list, is a DAG that sequentially triggers these functions (and thus updates the model) at an interval of our choice.The main trick here is that we pass on variables as a result of a task to the next task. This is done by so-called XCOMs, which allows tasks to exchange messages. Take for example the preprocessing task in the DAG above. Once we have loaded the data with the preceding loading of the data task, we then in the next task (the preprocessing task) access this data by calling the output variables of the loaded data.\n",
    "\n",
    "## Apache Spark \n",
    "is a multi-language engine for executing data engineering, data science, and machine learning on single-node machines or clusters. We shall be implementing the kafka clusters on a node that we shall use to transfer the data to the client.First, we would have to filter text corpus which seem relevant. We could easily use Spark Streaming for that purpose. Then, we would have to run some semantic analysis on the text corpus to determine if they appear to be referencing a current earthquake occurrence. Some text corpus to  be considered positive matches, whereas some to be considered negative. We can use  a support vector machine (SVM) for this purpose. If we are happy with the prediction rate of the model, we could move onto the next stage and react whenever we discover a result. To detect one we need a certain number (i.e., density) of positive results in a defined time window. \n"
   ]
  },
  {
   "cell_type": "markdown",
   "metadata": {},
   "source": [
    "# Generate ID"
   ]
  },
  {
   "cell_type": "markdown",
   "metadata": {},
   "source": [
    "Let us begin by generating an ID and this identifier will be used to uniquely identify the data streaming into the frontend and also shall determine the data storage into the data lake. If we use the uuid package we can be able to generate the id as 16 octets and represented as 32 base-16 characters, that can be used to identify the audio file and random text that appears on the screen"
   ]
  },
  {
   "cell_type": "code",
   "execution_count": 5,
   "metadata": {},
   "outputs": [],
   "source": [
    "import os,time,json\n",
    "import json\n",
    "import pandas as pd\n",
    "import matplotlib.pyplot as plt\n",
    "from datetime import timedelta,datetime\n",
    "import uuid"
   ]
  },
  {
   "cell_type": "code",
   "execution_count": 131,
   "metadata": {},
   "outputs": [],
   "source": [
    "text = {\n",
    "    \"id\":str(uuid.uuid4())\n",
    "}"
   ]
  },
  {
   "cell_type": "code",
   "execution_count": 132,
   "metadata": {},
   "outputs": [
    {
     "data": {
      "text/plain": [
       "{'id': 'a658979e-8642-4fa4-9fc6-5d48286d6dc4'}"
      ]
     },
     "execution_count": 132,
     "metadata": {},
     "output_type": "execute_result"
    }
   ],
   "source": [
    "text"
   ]
  },
  {
   "cell_type": "code",
   "execution_count": 133,
   "metadata": {},
   "outputs": [],
   "source": [
    "file='../data/test_amharic.wav'"
   ]
  },
  {
   "cell_type": "code",
   "execution_count": 134,
   "metadata": {},
   "outputs": [],
   "source": [
    "path = '/mnt/10ac-batch-5/week9/choquet-burhat/An-Amharic-News-Text-classification-Dataset/data/Amharic News Dataset.csv'"
   ]
  },
  {
   "cell_type": "code",
   "execution_count": 135,
   "metadata": {},
   "outputs": [],
   "source": [
    "s3_path = '/mnt/10ac-batch-5/week9/choquet-burhat/'"
   ]
  },
  {
   "cell_type": "markdown",
   "metadata": {},
   "source": [
    "# "
   ]
  },
  {
   "cell_type": "markdown",
   "metadata": {},
   "source": [
    "# Generate Text"
   ]
  },
  {
   "cell_type": "markdown",
   "metadata": {},
   "source": [
    "The next thing that we are going to do is that we are going to generate random texts from the csv containing thousands if not millions of different news articles and headlines classified into different categories.We are going to use pyspark to generate the random text but before that we shall first connect the spark session to a kafka cluster. Therefore the randomly generated data we are going to retrieve is going to come as the headline, article,category and date received but from the dataset we notice that there is some headlines without articles, and therefore we can put that into consideration as we are retrieving random text. And place the necessary validations that are required for this particular task."
   ]
  },
  {
   "cell_type": "code",
   "execution_count": 11,
   "metadata": {},
   "outputs": [],
   "source": [
    "!pip install pyspark numpy pandas matplotlib"
   ]
  },
  {
   "cell_type": "code",
   "execution_count": 137,
   "metadata": {},
   "outputs": [],
   "source": [
    "from pyspark import SparkConf\n",
    "from pyspark.context import SparkContext\n",
    "from pyspark.sql.session import SparkSession\n",
    "from pyspark.sql import Catalog\n",
    "import pyspark.sql.functions as psf\n",
    "from pyspark.sql.functions import lit, col,sum,avg,max,first,min,mean\n",
    "import pyspark.ml as Pipeline\n",
    "import pyspark.ml.pipeline as pmpip\n",
    "import pyspark.ml.param as pmparam\n",
    "from pyspark.ml.param.shared import HasInputCol,HasOutputCol\n",
    "from pyspark.sql.types import StructType,StructField,StringType,IntegerType,FloatType\n",
    "from pyspark.sql.functions import monotonically_increasing_id \n",
    "from pyspark.sql.functions import struct,array,lit\n",
    "from pyspark.streaming import StreamingContext\n"
   ]
  },
  {
   "cell_type": "code",
   "execution_count": 138,
   "metadata": {},
   "outputs": [],
   "source": [
    "spark_conf = SparkConf()\n",
    "spark_conf.setAll([\n",
    "    ('spark.master', 'local'),\n",
    "    ('spark.app.name', 'sttModelImprover'),\n",
    "    ('spark.submit.deployMode', 'client'),\n",
    "    ('spark.ui.showConsoleProgress', 'true'),\n",
    "    ('spark.eventLog.enabled', 'false'),\n",
    "    ('spark.logConf', 'false'),\n",
    "    ('spark.driver.host', 'localhost'),\n",
    "    ('spark.driver.memory','4g')\n",
    "])\n",
    "\n",
    "spark = SparkSession.builder.config(conf=spark_conf).getOrCreate()\n"
   ]
  },
  {
   "cell_type": "code",
   "execution_count": 139,
   "metadata": {},
   "outputs": [],
   "source": [
    "# os.system('spark-submit --packages org.apache.spark:spark-sql-kafka-0-10_2.12:3.3.0 consume.py')"
   ]
  },
  {
   "cell_type": "code",
   "execution_count": 140,
   "metadata": {},
   "outputs": [
    {
     "data": {
      "text/html": [
       "\n",
       "            <div>\n",
       "                <p><b>SparkSession - in-memory</b></p>\n",
       "                \n",
       "        <div>\n",
       "            <p><b>SparkContext</b></p>\n",
       "\n",
       "            <p><a href=\"http://localhost:4040\">Spark UI</a></p>\n",
       "\n",
       "            <dl>\n",
       "              <dt>Version</dt>\n",
       "                <dd><code>v3.3.0</code></dd>\n",
       "              <dt>Master</dt>\n",
       "                <dd><code>local</code></dd>\n",
       "              <dt>AppName</dt>\n",
       "                <dd><code>sttModelImprover</code></dd>\n",
       "            </dl>\n",
       "        </div>\n",
       "        \n",
       "            </div>\n",
       "        "
      ],
      "text/plain": [
       "<pyspark.sql.session.SparkSession at 0x7f6e9c0ec460>"
      ]
     },
     "execution_count": 140,
     "metadata": {},
     "output_type": "execute_result"
    }
   ],
   "source": [
    "spark"
   ]
  },
  {
   "cell_type": "code",
   "execution_count": 141,
   "metadata": {},
   "outputs": [
    {
     "name": "stderr",
     "output_type": "stream",
     "text": [
      "                                                                                \r"
     ]
    }
   ],
   "source": [
    "df_pyspark = spark.read.csv(path,header=True,inferSchema=True)"
   ]
  },
  {
   "cell_type": "code",
   "execution_count": 142,
   "metadata": {},
   "outputs": [
    {
     "name": "stderr",
     "output_type": "stream",
     "text": [
      "                                                                                \r"
     ]
    }
   ],
   "source": [
    "# pick any text\n",
    "random_row_text = df_pyspark.rdd.takeSample(False, 1, seed=0)"
   ]
  },
  {
   "cell_type": "code",
   "execution_count": 143,
   "metadata": {},
   "outputs": [
    {
     "data": {
      "text/plain": [
       "[Row(headline='ወልዋሎ የአራት ተጫዋቾች ዝውውር አጠናቀቀ', category='ስፖርት', date='August 27, 2019', views='Unknown', article='በዝውውሩ በስፋት እየተሳተፉ የሚገኙት ወልዋሎዎች ከወር በፊት ቀድመው የተስማሙት ኢታሙና ኬይሙኔ ፣ ዓይናለም ኃይሉ ፣ ኬኔዲ አሺያ እና ጆናስ ሎሎን አስፈርመዋል።የእግር ኳስ ህይቱ በተወለደበት ከተማ ዓዲግራት ጀምሮ ሃገሩን ለማገልገል ወደ መከላከያ ሰራዊት ባቀናበት ወቅት ባሳየው ጥሩ አቋም ባህር ዳር ዩኒቨርሲቲ ቀጥሎም መከላከያን የተቀላቀለው  ተከላካዩ ዓይናለም ኃይለ ከዚህ ቀደም ለደደቢት፣ ዳሽን ቢራ፣ ፋሲል ከነማ እንዲሁም ለኢትዮጵያ ብሄራዊ ቡድን መጫወቱ ይታወሳል።ሌሎች ወልዋሎ የተቀላቀሉት ናሚቢያዊያኑ ኢታሙና ኬይሙኔ እና ጆናስ ሎሎ ናቸው። ኢታሙና ባለፈው ዓመት ከብርቱካናማዎቹ ጋር የተሳካ ቆይታ የነበረው ተጫዋች ሲሆን በግብፁ የአፍሪካ ዋንጫም ተሳታፊ እንደነበር ይታወሳል። ሌላው አዲስ የቢጫ ለባሾቹ ፈራሚ ጆናስ ሎሎ ሲሆን ከኢታሙና ቀጥሎ በፕሪምየር ሊጉ የተጫወተ ሁለተኛው ናሚቢያዊ እንደሚሆን ይጠበቃል።አራተኛው የወልዋሎ ፈራሚ ከዚ በፊት በሲዳማ ቡና ቆይታ የነበረው ኬኔዲ አሺያ ነው። ተጫዋቹ በወቅቱ ከፍተኛ ክፍያ በ2009 ክረምት ክለቡን ቢቀላቀልም ብዙም ሳይቆይ መለያየቱ ይታወሳል።ቡድኑን በአዲስ መልክ እያዋቀረ የሚገኘው ወልዋሎ እስካሁን 13 ተጫዋቾች አስፈርሟል።', link='https://soccerethiopia.net/football/50220')]"
      ]
     },
     "execution_count": 143,
     "metadata": {},
     "output_type": "execute_result"
    }
   ],
   "source": [
    "random_row_text"
   ]
  },
  {
   "cell_type": "markdown",
   "metadata": {},
   "source": [
    "# Streaming Text"
   ]
  },
  {
   "cell_type": "markdown",
   "metadata": {},
   "source": [
    "Now after generating the random text, then let the streaming begin and we can begin to immediately stream the data into the frontend for the user to see. For this service we shall use apache kafka. And we shall send the publish the random text data, keeping in mind that we had uniquely generated the uuid and we configure this with the api, therefore there shall be no overlaps with the data, so once we have received it. We consume the text and send back an audio file that we are going to carefully but keenly scrutinize before funishing it to the data lake that is our s3 bucket"
   ]
  },
  {
   "cell_type": "code",
   "execution_count": 144,
   "metadata": {},
   "outputs": [
    {
     "name": "stdout",
     "output_type": "stream",
     "text": [
      "Requirement already satisfied: kafka-python in /opt/miniconda/lib/python3.9/site-packages (2.0.2)\n"
     ]
    }
   ],
   "source": [
    "!pip install kafka-python"
   ]
  },
  {
   "cell_type": "code",
   "execution_count": 145,
   "metadata": {},
   "outputs": [],
   "source": [
    "from kafka import KafkaConsumer,KafkaProducer,KafkaAdminClient\n",
    "from kafka.admin import NewTopic"
   ]
  },
  {
   "cell_type": "code",
   "execution_count": 146,
   "metadata": {},
   "outputs": [],
   "source": [
    "client = KafkaAdminClient(bootstrap_servers=['127.0.0.1:9092'],\n",
    "                         client_id='admin-client')"
   ]
  },
  {
   "cell_type": "code",
   "execution_count": 147,
   "metadata": {},
   "outputs": [],
   "source": [
    "text.update({'headline':random_row_text[0]['headline']})\n",
    "text.update({'article':random_row_text[0]['article']})\n",
    "text.update({'audio':'../data/test_amharic.wav'})"
   ]
  },
  {
   "cell_type": "code",
   "execution_count": 148,
   "metadata": {},
   "outputs": [],
   "source": [
    "topic_list = []\n",
    "topic_list.append(\n",
    "    NewTopic(name='spark-transformed-text',\n",
    "              num_partitions=1,\n",
    "              replication_factor=1)\n",
    ")"
   ]
  },
  {
   "cell_type": "code",
   "execution_count": 151,
   "metadata": {},
   "outputs": [],
   "source": [
    "client.create_topics(new_topics=topic_list,validate_only=False)"
   ]
  },
  {
   "cell_type": "code",
   "execution_count": 152,
   "metadata": {},
   "outputs": [],
   "source": [
    "def json_serializer(data):\n",
    "    return json.dumps(data).encode('utf-8')\n",
    "\n",
    "\n",
    "def get_partition(key,all,available):\n",
    "    return 0"
   ]
  },
  {
   "cell_type": "code",
   "execution_count": 153,
   "metadata": {},
   "outputs": [],
   "source": [
    "producer = KafkaProducer(\n",
    "    bootstrap_servers=['127.0.0.1:9092'],\n",
    "    value_serializer=json_serializer,\n",
    "    partitioner=get_partition\n",
    "    )"
   ]
  },
  {
   "cell_type": "code",
   "execution_count": 154,
   "metadata": {},
   "outputs": [
    {
     "data": {
      "text/plain": [
       "<kafka.producer.future.FutureRecordMetadata at 0x7f6e3f2151c0>"
      ]
     },
     "execution_count": 154,
     "metadata": {},
     "output_type": "execute_result"
    }
   ],
   "source": [
    "producer.send(\"spark-transformed-text\",text)"
   ]
  },
  {
   "cell_type": "code",
   "execution_count": 155,
   "metadata": {},
   "outputs": [],
   "source": [
    "producer.flush()"
   ]
  },
  {
   "cell_type": "code",
   "execution_count": 157,
   "metadata": {},
   "outputs": [],
   "source": [
    "consumer = KafkaConsumer(\n",
    "        \"spark-transformed-text\",\n",
    "        bootstrap_servers='127.0.0.1:9092',\n",
    "        auto_offset_reset='earliest',\n",
    "        group_id='consumer-group-a'\n",
    "    )\n",
    "print('<<<<<<<<<<<<<starting consumer>>>>>>>>>>>>>')\n",
    "for msg in consumer:\n",
    "    print('Text = {}'.format(json.loads(msg.value)))\n",
    "    "
   ]
  },
  {
   "cell_type": "code",
   "execution_count": null,
   "metadata": {},
   "outputs": [],
   "source": []
  },
  {
   "cell_type": "markdown",
   "metadata": {},
   "source": [
    "# Preprocess Data"
   ]
  },
  {
   "cell_type": "markdown",
   "metadata": {},
   "source": [
    "So once we have received the data we begin to carefully scrutinize it and clean it and pass it through some checks,this is what we do in the preprocessing:\n",
    "\n",
    "1. we check the audio file first of all whether it has data by displaying a simple wave form\n",
    "2. we check the frequencies of the audio file to see if they are normal\n",
    "3. we convert into a spectogram and check the mfccs, to see whether the standard 12 coefficients, if they are having some pattern\n",
    "4. we split the audio file into chunks, that is words and then we store it and count the number of chunks whether they are similar to the length of the articles string split.\n",
    "\n",
    "\n",
    "Once it passes all these checks, then we know we are good and transform the data by matching it to the data in the data lake and attaching the id for retrieval. Once we push it to the s3 bucket, we successfully push it to the s3 bucket, then we can run the tasks for updating the metadata, and the model"
   ]
  },
  {
   "cell_type": "code",
   "execution_count": 12,
   "metadata": {},
   "outputs": [],
   "source": [
    "!pip install librosa\n",
    "!pip install ffmpeg\n",
    "!pip install wave"
   ]
  },
  {
   "cell_type": "code",
   "execution_count": 12,
   "metadata": {},
   "outputs": [],
   "source": [
    "import librosa\n",
    "import librosa.display\n",
    "import matplotlib.pyplot as plt\n",
    "import numpy as np\n",
    "import wave,array\n",
    "from pydub import AudioSegment\n",
    "from pydub.silence import split_on_silence"
   ]
  },
  {
   "cell_type": "code",
   "execution_count": 158,
   "metadata": {},
   "outputs": [],
   "source": [
    "file = text['audio']"
   ]
  },
  {
   "cell_type": "code",
   "execution_count": 159,
   "metadata": {},
   "outputs": [],
   "source": [
    "signal,sr = librosa.load(file,sr=22050)"
   ]
  },
  {
   "cell_type": "code",
   "execution_count": 15,
   "metadata": {},
   "outputs": [
    {
     "data": {
      "text/plain": [
       "Text(12.375, 0.5, 'amplitude')"
      ]
     },
     "execution_count": 15,
     "metadata": {},
     "output_type": "execute_result"
    },
    {
     "data": {
      "image/png": "[encoded data removed]",
      "text/plain": [
       "<Figure size 432x288 with 1 Axes>"
      ]
     },
     "metadata": {
      "needs_background": "light"
     },
     "output_type": "display_data"
    }
   ],
   "source": [
    "librosa.display.waveshow(signal,sr=sr)\n",
    "plt.xlabel('time')\n",
    "plt.ylabel('amplitude')"
   ]
  },
  {
   "cell_type": "code",
   "execution_count": 15,
   "metadata": {},
   "outputs": [],
   "source": [
    "## power spectrum"
   ]
  },
  {
   "cell_type": "code",
   "execution_count": 12,
   "metadata": {},
   "outputs": [
    {
     "data": {
      "text/plain": [
       "array([-35.40391737-2.84217094e-14j,  -1.86444274-1.01055805e+01j,\n",
       "       -14.22389039+1.29566918e+01j, ...,  25.23465432-3.32335885e+00j,\n",
       "       -14.22389039-1.29566918e+01j,  -1.86444274+1.01055805e+01j])"
      ]
     },
     "execution_count": 12,
     "metadata": {},
     "output_type": "execute_result"
    }
   ],
   "source": [
    "fft = np.fft.fft(signal);fft"
   ]
  },
  {
   "cell_type": "code",
   "execution_count": 11,
   "metadata": {},
   "outputs": [
    {
     "data": {
      "text/plain": [
       "array([35.40391737, 10.27613277, 19.24045012, ..., 25.45255376,\n",
       "       19.24045012, 10.27613277])"
      ]
     },
     "execution_count": 11,
     "metadata": {},
     "output_type": "execute_result"
    }
   ],
   "source": [
    "magnitude = np.abs(fft);magnitude"
   ]
  },
  {
   "cell_type": "code",
   "execution_count": 14,
   "metadata": {},
   "outputs": [
    {
     "data": {
      "text/plain": [
       "array([0.0000000e+00, 4.1015625e-02, 8.2031250e-02, ..., 2.2049918e+04,\n",
       "       2.2049959e+04, 2.2050000e+04])"
      ]
     },
     "execution_count": 14,
     "metadata": {},
     "output_type": "execute_result"
    }
   ],
   "source": [
    "frequency = np.linspace(0,sr,len(magnitude));frequency"
   ]
  },
  {
   "cell_type": "code",
   "execution_count": 18,
   "metadata": {},
   "outputs": [
    {
     "data": {
      "text/plain": [
       "Text(0, 0.5, 'magnitude')"
      ]
     },
     "execution_count": 18,
     "metadata": {},
     "output_type": "execute_result"
    },
    {
     "data": {
      "image/png": "[encoded data removed]",
      "text/plain": [
       "<Figure size 432x288 with 1 Axes>"
      ]
     },
     "metadata": {
      "needs_background": "light"
     },
     "output_type": "display_data"
    }
   ],
   "source": [
    "plt.plot(frequency,magnitude)\n",
    "plt.xlabel('frequency')\n",
    "plt.ylabel('magnitude')"
   ]
  },
  {
   "cell_type": "code",
   "execution_count": 25,
   "metadata": {},
   "outputs": [],
   "source": [
    "## a signle fourier transform"
   ]
  },
  {
   "cell_type": "code",
   "execution_count": 46,
   "metadata": {},
   "outputs": [
    {
     "data": {
      "image/png": "[encoded data removed]",
      "text/plain": [
       "<Figure size 864x288 with 1 Axes>"
      ]
     },
     "metadata": {
      "needs_background": "light"
     },
     "output_type": "display_data"
    }
   ],
   "source": [
    "n_fft = 2048\n",
    "plt.figure(figsize=(12, 4))\n",
    "ft = np.abs(librosa.stft(signal[:n_fft], hop_length = n_fft+1))\n",
    "plt.plot(ft);\n",
    "plt.title('Spectrum');\n",
    "plt.xlabel('Frequency Bin');\n",
    "plt.ylabel('Amplitude');"
   ]
  },
  {
   "cell_type": "code",
   "execution_count": 45,
   "metadata": {},
   "outputs": [],
   "source": [
    "ft = np.abs(librosa.stft(signal[:n_fft], hop_length =512))"
   ]
  },
  {
   "cell_type": "code",
   "execution_count": 26,
   "metadata": {},
   "outputs": [],
   "source": [
    "# spectrum show"
   ]
  },
  {
   "cell_type": "code",
   "execution_count": 44,
   "metadata": {},
   "outputs": [
    {
     "data": {
      "image/png": "[encoded data removed]",
      "text/plain": [
       "<Figure size 864x288 with 2 Axes>"
      ]
     },
     "metadata": {
      "needs_background": "light"
     },
     "output_type": "display_data"
    }
   ],
   "source": [
    "n_fft = 2048\n",
    "S = librosa.amplitude_to_db(ft)\n",
    "plt.figure(figsize=(12, 4))\n",
    "librosa.display.specshow(S, sr=sr, hop_length=512, x_axis='time', y_axis='linear')\n",
    "plt.colorbar(format='%+2.0f dB')\n",
    "plt.show()"
   ]
  },
  {
   "cell_type": "code",
   "execution_count": 35,
   "metadata": {},
   "outputs": [
    {
     "name": "stderr",
     "output_type": "stream",
     "text": [
      "/tmp/ipykernel_87286/555229492.py:2: FutureWarning: Pass y=[-6.01378861e-06 -3.92529455e-06  8.78687842e-06 ... -1.41699511e-05\n",
      "  1.10003175e-05  0.00000000e+00] as keyword args. From version 0.10 passing these as positional arguments will result in an error\n",
      "  mfccs = librosa.feature.mfcc(signal, sr=sr, n_mfcc=13) #computed MFCCs over frames.\n"
     ]
    },
    {
     "data": {
      "image/png": "[encoded data removed]",
      "text/plain": [
       "<Figure size 864x288 with 2 Axes>"
      ]
     },
     "metadata": {
      "needs_background": "light"
     },
     "output_type": "display_data"
    }
   ],
   "source": [
    "plt.figure(figsize=(12, 4))\n",
    "mfccs = librosa.feature.mfcc(signal, sr=sr, n_mfcc=13) #computed MFCCs over frames.\n",
    "librosa.display.specshow(mfccs, sr=sr, x_axis='time')\n",
    "plt.colorbar(format='%+2.0f dB')\n",
    "plt.show()"
   ]
  },
  {
   "cell_type": "code",
   "execution_count": 29,
   "metadata": {},
   "outputs": [],
   "source": [
    "# convert to stereo"
   ]
  },
  {
   "cell_type": "code",
   "execution_count": 16,
   "metadata": {},
   "outputs": [
    {
     "name": "stdout",
     "output_type": "stream",
     "text": [
      "_wave_params(nchannels=2, sampwidth=2, framerate=48000, nframes=1170286, comptype='NONE', compname='not compressed')\n",
      "succesffully converted to stereo\n"
     ]
    }
   ],
   "source": [
    "ifile = wave.open(file)\n",
    "output = '../data/stereo_amharic.wav'\n",
    "print(ifile.getparams())\n",
    "(nchannels, sampwidth, framerate, nframes, comptype, compname) = ifile.getparams()\n",
    "assert comptype == 'NONE'  # Compressed not supported yet\n",
    "array_type = {1:'B', 2: 'h', 4: 'l'}[sampwidth]\n",
    "left_channel = array.array(array_type, ifile.readframes(nframes))[::nchannels]\n",
    "ifile.close()\n",
    "stereo = 2 * left_channel\n",
    "stereo[0::2] = stereo[1::2] = left_channel\n",
    "ofile = wave.open(output, 'w')\n",
    "ofile.setparams((2, sampwidth, framerate, nframes, comptype, compname))\n",
    "try:\n",
    "    ofile.writeframes(stereo)\n",
    "    print(\"succesffully converted to stereo\")\n",
    "except Exception as e:\n",
    "    print(e)\n",
    "ofile.close()"
   ]
  },
  {
   "cell_type": "code",
   "execution_count": 47,
   "metadata": {},
   "outputs": [],
   "source": [
    "# mfccs"
   ]
  },
  {
   "cell_type": "code",
   "execution_count": 49,
   "metadata": {},
   "outputs": [
    {
     "name": "stderr",
     "output_type": "stream",
     "text": [
      "/tmp/ipykernel_87286/527622070.py:1: FutureWarning: Pass y=[-6.01378861e-06 -3.92529455e-06  8.78687842e-06 ... -1.41699511e-05\n",
      "  1.10003175e-05  0.00000000e+00] as keyword args. From version 0.10 passing these as positional arguments will result in an error\n",
      "  mfccs = librosa.feature.mfcc(signal,n_fft=n_fft,hop_length=512)\n"
     ]
    }
   ],
   "source": [
    "mfccs = librosa.feature.mfcc(signal,n_fft=n_fft,hop_length=512)"
   ]
  },
  {
   "cell_type": "code",
   "execution_count": 52,
   "metadata": {},
   "outputs": [
    {
     "data": {
      "text/plain": [
       "Text(0, 0.5, 'mfccs')"
      ]
     },
     "execution_count": 52,
     "metadata": {},
     "output_type": "execute_result"
    },
    {
     "data": {
      "image/png": "[encoded data removed]",
      "text/plain": [
       "<Figure size 432x288 with 1 Axes>"
      ]
     },
     "metadata": {},
     "output_type": "display_data"
    }
   ],
   "source": [
    "librosa.display.specshow(mfccs,sr=sr,hop_length=512)\n",
    "plt.xlabel(\"time\")\n",
    "plt.ylabel(\"mfccs\")"
   ]
  },
  {
   "cell_type": "code",
   "execution_count": 8,
   "metadata": {},
   "outputs": [],
   "source": [
    "sound_file = AudioSegment.from_wav(file)\n",
    "audio_chunks = split_on_silence(sound_file, \n",
    "    # must be silent for at least half a second\n",
    "    min_silence_len=500,\n",
    "\n",
    "    # consider it silent if quieter than -16 dBFS\n",
    "    silence_thresh=-16\n",
    ")\n",
    "\n",
    "for i, chunk in enumerate(audio_chunks):\n",
    "\n",
    "    out_file = \"../data/splitAudio/chunk{0}.wav\".format(i)\n",
    "    chunk.export(out_file, format=\"wav\")"
   ]
  },
  {
   "cell_type": "code",
   "execution_count": 10,
   "metadata": {},
   "outputs": [
    {
     "name": "stdout",
     "output_type": "stream",
     "text": [
      "this audio is worthy to be pushed to the bucket\n"
     ]
    }
   ],
   "source": [
    "if len(os.listdir('../data/splitAudio/'))==len(text['article'].split(' ')):\n",
    "    print(\"this audio is worthy to be pushed to the bucket\")\n",
    "else:\n",
    "    print(\"this audio is not worthy to be pushed to the bucket\")"
   ]
  },
  {
   "cell_type": "markdown",
   "metadata": {},
   "source": [
    "# Transforming and Storing into bucket"
   ]
  },
  {
   "cell_type": "code",
   "execution_count": 160,
   "metadata": {},
   "outputs": [
    {
     "name": "stdout",
     "output_type": "stream",
     "text": [
      "+--------------------+--------------------+-----------------+-----+--------------------+--------------------+\n",
      "|            headline|            category|             date|views|             article|                link|\n",
      "+--------------------+--------------------+-----------------+-----+--------------------+--------------------+\n",
      "|የኦሊምፒክ ማጣሪያ ተሳታፊዎ...|                ስፖርት| January 14, 2021|    2|ብርሃን ፈይሳየኢትዮጵያ ቦክ...|https://www.press...|\n",
      "|          አዲስ ዘመን ድሮ|                መዝናኛ|December 28, 2020|    4| የአዲስ ዘመን ጋዜጣ ቀደም...|                null|\n",
      "|      መንገድ በመከተል አልፎ|                null|             null| null|                null|                null|\n",
      "|      አልፎ በሚገኙት ሰፈሮች|                null|             null| null|                null|                null|\n",
      "|       ብዙዎች የልኳንዳ ሥጋ|                null|             null| null|                null|                null|\n",
      "|የተሰቀለባቸውና   ፉርኖ ይ...|https://www.press...|             null| null|                null|                null|\n",
      "|የአረንጓዴ ጎርፍ በጎ አድራ...|                ስፖርት|  January 6, 2021|    6|ቦጋለ አበበየአዲስ አበባ ከ...|https://www.press...|\n",
      "|የሊጉ በቢዝነስ ሞዴል መመራ...|                ስፖርት|  January 6, 2021|    5|ብርሃን ፈይሳአዲስ አበባ፡-...|                null|\n",
      "|(2012ዓም) የሊግ ኮሚቴ ...|https://www.press...|             null| null|                null|                null|\n",
      "|የኦሊምፒክ ሥራ አስፈፃሚው ...|                ስፖርት|  January 6, 2021|   12|ቦጋለ አበበ የኢትዮጵያ ኦሊ...|                null|\n",
      "|                 ክልል|                null|             null| null|                null|                null|\n",
      "|                 ርዕሰ|                null|             null| null|                null|                null|\n",
      "|              መስተዳድር|                null|             null| null|                null|                null|\n",
      "|              ፕሬዚዳንት|                null|             null| null|                null|                null|\n",
      "|                  አቶ|                null|             null| null|                null|                null|\n",
      "|                 ደስታ|                null|             null| null|                null|                null|\n",
      "|                 ሌዳሞ|                null|             null| null|                null|                null|\n",
      "|               ጉባኤውን|                null|             null| null|                null|                null|\n",
      "|               በንግግር|                null|             null| null|                null|                null|\n",
      "|                የከፈቱ|                null|             null| null|                null|                null|\n",
      "+--------------------+--------------------+-----------------+-----+--------------------+--------------------+\n",
      "only showing top 20 rows\n",
      "\n"
     ]
    }
   ],
   "source": [
    "# let us remove missing values\n",
    "df_pyspark.show()"
   ]
  },
  {
   "cell_type": "code",
   "execution_count": 162,
   "metadata": {},
   "outputs": [],
   "source": [
    "match_transcript = df_pyspark.filter(df_pyspark.headline == text['headline'])"
   ]
  },
  {
   "cell_type": "code",
   "execution_count": 163,
   "metadata": {},
   "outputs": [
    {
     "name": "stderr",
     "output_type": "stream",
     "text": [
      "                                                                                \r"
     ]
    },
    {
     "name": "stdout",
     "output_type": "stream",
     "text": [
      "+--------------------+--------+---------------+-------+--------------------+--------------------+\n",
      "|            headline|category|           date|  views|             article|                link|\n",
      "+--------------------+--------+---------------+-------+--------------------+--------------------+\n",
      "|ወልዋሎ የአራት ተጫዋቾች ዝ...|    ስፖርት|  March 4, 2020|Unknown|በዝውውር መስኮቱ በርካታ ተ...|https://soccereth...|\n",
      "|ወልዋሎ የአራት ተጫዋቾች ዝ...|    ስፖርት|August 27, 2019|Unknown|በዝውውሩ በስፋት እየተሳተፉ...|https://soccereth...|\n",
      "+--------------------+--------+---------------+-------+--------------------+--------------------+\n",
      "\n"
     ]
    },
    {
     "name": "stderr",
     "output_type": "stream",
     "text": [
      "                                                                                \r"
     ]
    }
   ],
   "source": [
    "match_transcript.show()"
   ]
  },
  {
   "cell_type": "code",
   "execution_count": 165,
   "metadata": {},
   "outputs": [],
   "source": [
    "df_with_audio = match_transcript.withColumn(\"audio\",lit(text['id']))"
   ]
  },
  {
   "cell_type": "code",
   "execution_count": 166,
   "metadata": {},
   "outputs": [
    {
     "name": "stderr",
     "output_type": "stream",
     "text": [
      "[Stage 24:>                                                         (0 + 1) / 1]\r"
     ]
    },
    {
     "name": "stdout",
     "output_type": "stream",
     "text": [
      "+--------------------+--------+---------------+-------+--------------------+--------------------+--------------------+\n",
      "|            headline|category|           date|  views|             article|                link|               audio|\n",
      "+--------------------+--------+---------------+-------+--------------------+--------------------+--------------------+\n",
      "|ወልዋሎ የአራት ተጫዋቾች ዝ...|    ስፖርት|  March 4, 2020|Unknown|በዝውውር መስኮቱ በርካታ ተ...|https://soccereth...|a658979e-8642-4fa...|\n",
      "|ወልዋሎ የአራት ተጫዋቾች ዝ...|    ስፖርት|August 27, 2019|Unknown|በዝውውሩ በስፋት እየተሳተፉ...|https://soccereth...|a658979e-8642-4fa...|\n",
      "+--------------------+--------+---------------+-------+--------------------+--------------------+--------------------+\n",
      "\n"
     ]
    },
    {
     "name": "stderr",
     "output_type": "stream",
     "text": [
      "                                                                                \r"
     ]
    }
   ],
   "source": [
    "df_with_audio.show()"
   ]
  },
  {
   "cell_type": "markdown",
   "metadata": {},
   "source": [
    "# Loading Transformation"
   ]
  },
  {
   "cell_type": "code",
   "execution_count": 167,
   "metadata": {},
   "outputs": [
    {
     "name": "stderr",
     "output_type": "stream",
     "text": [
      "                                                                                \r"
     ]
    }
   ],
   "source": [
    "df_with_audio.write\\\n",
    ".format(\"csv\")\\\n",
    ".partitionBy(\"audio\")\\\n",
    ".mode(\"append\")\\\n",
    ".save(\"/mnt/10ac-batch-5/week9/choquet-burhat/groupedByaudio/\")"
   ]
  },
  {
   "cell_type": "markdown",
   "metadata": {},
   "source": [
    "# Schedule Model Update Run"
   ]
  },
  {
   "cell_type": "markdown",
   "metadata": {},
   "source": [
    "The next thing that we do, is we run some asynchronous tasks in which we publish our new found and validated data to the metadata csv. Then once we have succesfully published the metadata then we go ahead and retrain the model and we have our mlfow log metric ready to tell us whether our model has improved or whether we are wasting our precious time, with this interesting tools for nothing."
   ]
  },
  {
   "cell_type": "code",
   "execution_count": 13,
   "metadata": {},
   "outputs": [],
   "source": [
    "!python -m pip install mlflow apache-airflow"
   ]
  },
  {
   "cell_type": "code",
   "execution_count": 1,
   "metadata": {},
   "outputs": [],
   "source": [
    "import logging\n",
    "import mlflow\n",
    "from airflow.decorators import dag,task\n",
    "import pandas as pd\n",
    "import os,sys\n",
    "sys.path.append(os.path.abspath(os.path.join('../scripts')))\n",
    "from model_handler import Model"
   ]
  },
  {
   "cell_type": "code",
   "execution_count": 6,
   "metadata": {},
   "outputs": [],
   "source": [
    "default_args={\n",
    "    'owner':'martinluther',\n",
    "    'retries':5,\n",
    "    'retry_delay':timedelta(minutes=2)\n",
    "}\n"
   ]
  },
  {
   "cell_type": "code",
   "execution_count": 173,
   "metadata": {},
   "outputs": [
    {
     "data": {
      "text/plain": [
       "'መስተዳድር'"
      ]
     },
     "execution_count": 173,
     "metadata": {},
     "output_type": "execute_result"
    },
    {
     "name": "stderr",
     "output_type": "stream",
     "text": [
      "WARNING:kafka.coordinator:Heartbeat poll expired, leaving group\n"
     ]
    }
   ],
   "source": [
    "@dag(dag_id='dag_for_updating_metadata',\n",
    "    default_args=default_args,\n",
    "    start_date=airflow.utils.dates.days_ago(1),\n",
    "    schedule_interval='@hourly')\n",
    "def update_metadata():\n",
    "    @task()\n",
    "    def run():\n",
    "        metadata = pd.read_csv('../data/metadata.csv')\n",
    "        metadata.append({\n",
    "            'translation':text['article'], \n",
    "            'label':text['audio'],\n",
    "            'channel':0,\n",
    "            'sample_rate':0,\n",
    "            'duration':0\n",
    "        }, ignore_index=True)\n",
    "    run()"
   ]
  },
  {
   "cell_type": "code",
   "execution_count": 7,
   "metadata": {},
   "outputs": [],
   "source": [
    "@dag(dag_id='dag_for_updating_model',\n",
    "    default_args=default_args,\n",
    "    start_date=airflow.utils.dates.days_ago(1),\n",
    "    schedule_interval='@hourly')\n",
    "def update_model_training_data():\n",
    "    @task()\n",
    "    def run():\n",
    "        with mlflow.start_run(run_name=\"update_stt_model\"):\n",
    "            \n",
    "            model = Model(run=True)\n",
    "            result = model.validate_transcription(\n",
    "                    ['../data/test_amharic.wav'] , \n",
    "                    [\"ጠጁን ኰመኰመ ኰመኰመና ሚስቱን ሲያሰቃያት አደረ\"])\n",
    "            mlflow.log_metric(\"error\",result['error'])\n",
    "    run()"
   ]
  },
  {
   "cell_type": "markdown",
   "metadata": {},
   "source": [
    "# KAFKA CONNECTION TO AWS (Bonus Tasks)"
   ]
  },
  {
   "cell_type": "markdown",
   "metadata": {},
   "source": [
    "Another thing we can do is using boto library we can connect to the aws s3 bucket and list whether the data actually reached the s3 bucket or not, Thank you."
   ]
  },
  {
   "cell_type": "code",
   "execution_count": 14,
   "metadata": {},
   "outputs": [],
   "source": [
    "!pip install boto3"
   ]
  },
  {
   "cell_type": "code",
   "execution_count": 20,
   "metadata": {},
   "outputs": [],
   "source": [
    "## let us begin by listing what is inside our buckets in our aws\n"
   ]
  },
  {
   "cell_type": "code",
   "execution_count": 168,
   "metadata": {},
   "outputs": [],
   "source": [
    "import boto3"
   ]
  },
  {
   "cell_type": "code",
   "execution_count": 169,
   "metadata": {},
   "outputs": [],
   "source": [
    "s3 = boto3.resource('s3')\n",
    "s3_bucket_to_transform =s3.Bucket('10ac-batch-5')"
   ]
  },
  {
   "cell_type": "code",
   "execution_count": 170,
   "metadata": {},
   "outputs": [
    {
     "name": "stdout",
     "output_type": "stream",
     "text": [
      "week9/choquet-burhat/\n",
      "week9/choquet-burhat/An-Amharic-News-Text-classification-Dataset/\n",
      "week9/choquet-burhat/An-Amharic-News-Text-classification-Dataset/.git/\n",
      "week9/choquet-burhat/An-Amharic-News-Text-classification-Dataset/.git/FETCH_HEAD\n",
      "week9/choquet-burhat/An-Amharic-News-Text-classification-Dataset/.git/HEAD\n",
      "week9/choquet-burhat/An-Amharic-News-Text-classification-Dataset/.git/ORIG_HEAD\n",
      "week9/choquet-burhat/An-Amharic-News-Text-classification-Dataset/.git/branches/\n",
      "week9/choquet-burhat/An-Amharic-News-Text-classification-Dataset/.git/config\n",
      "week9/choquet-burhat/An-Amharic-News-Text-classification-Dataset/.git/description\n",
      "week9/choquet-burhat/An-Amharic-News-Text-classification-Dataset/.git/hooks/\n",
      "week9/choquet-burhat/An-Amharic-News-Text-classification-Dataset/.git/hooks/applypatch-msg.sample\n",
      "week9/choquet-burhat/An-Amharic-News-Text-classification-Dataset/.git/hooks/commit-msg.sample\n",
      "week9/choquet-burhat/An-Amharic-News-Text-classification-Dataset/.git/hooks/fsmonitor-watchman.sample\n",
      "week9/choquet-burhat/An-Amharic-News-Text-classification-Dataset/.git/hooks/post-update.sample\n",
      "week9/choquet-burhat/An-Amharic-News-Text-classification-Dataset/.git/hooks/pre-applypatch.sample\n",
      "week9/choquet-burhat/An-Amharic-News-Text-classification-Dataset/.git/hooks/pre-commit.sample\n",
      "week9/choquet-burhat/An-Amharic-News-Text-classification-Dataset/.git/hooks/pre-merge-commit.sample\n",
      "week9/choquet-burhat/An-Amharic-News-Text-classification-Dataset/.git/hooks/pre-push.sample\n",
      "week9/choquet-burhat/An-Amharic-News-Text-classification-Dataset/.git/hooks/pre-rebase.sample\n",
      "week9/choquet-burhat/An-Amharic-News-Text-classification-Dataset/.git/hooks/pre-receive.sample\n",
      "week9/choquet-burhat/An-Amharic-News-Text-classification-Dataset/.git/hooks/prepare-commit-msg.sample\n",
      "week9/choquet-burhat/An-Amharic-News-Text-classification-Dataset/.git/hooks/push-to-checkout.sample\n",
      "week9/choquet-burhat/An-Amharic-News-Text-classification-Dataset/.git/hooks/update.sample\n",
      "week9/choquet-burhat/An-Amharic-News-Text-classification-Dataset/.git/index\n",
      "week9/choquet-burhat/An-Amharic-News-Text-classification-Dataset/.git/info/\n",
      "week9/choquet-burhat/An-Amharic-News-Text-classification-Dataset/.git/info/exclude\n",
      "week9/choquet-burhat/An-Amharic-News-Text-classification-Dataset/.git/logs/\n",
      "week9/choquet-burhat/An-Amharic-News-Text-classification-Dataset/.git/logs/HEAD\n",
      "week9/choquet-burhat/An-Amharic-News-Text-classification-Dataset/.git/logs/refs/\n",
      "week9/choquet-burhat/An-Amharic-News-Text-classification-Dataset/.git/logs/refs/heads/\n",
      "week9/choquet-burhat/An-Amharic-News-Text-classification-Dataset/.git/logs/refs/heads/main\n",
      "week9/choquet-burhat/An-Amharic-News-Text-classification-Dataset/.git/logs/refs/remotes/\n",
      "week9/choquet-burhat/An-Amharic-News-Text-classification-Dataset/.git/logs/refs/remotes/origin/\n",
      "week9/choquet-burhat/An-Amharic-News-Text-classification-Dataset/.git/logs/refs/remotes/origin/HEAD\n",
      "week9/choquet-burhat/An-Amharic-News-Text-classification-Dataset/.git/objects/\n",
      "week9/choquet-burhat/An-Amharic-News-Text-classification-Dataset/.git/objects/info/\n",
      "week9/choquet-burhat/An-Amharic-News-Text-classification-Dataset/.git/objects/pack/\n",
      "week9/choquet-burhat/An-Amharic-News-Text-classification-Dataset/.git/objects/pack/pack-358207f6ffa720c8b91350cf3551426654b4e18c.idx\n",
      "week9/choquet-burhat/An-Amharic-News-Text-classification-Dataset/.git/objects/pack/pack-358207f6ffa720c8b91350cf3551426654b4e18c.pack\n",
      "week9/choquet-burhat/An-Amharic-News-Text-classification-Dataset/.git/packed-refs\n",
      "week9/choquet-burhat/An-Amharic-News-Text-classification-Dataset/.git/refs/\n",
      "week9/choquet-burhat/An-Amharic-News-Text-classification-Dataset/.git/refs/heads/\n",
      "week9/choquet-burhat/An-Amharic-News-Text-classification-Dataset/.git/refs/heads/main\n",
      "week9/choquet-burhat/An-Amharic-News-Text-classification-Dataset/.git/refs/remotes/\n",
      "week9/choquet-burhat/An-Amharic-News-Text-classification-Dataset/.git/refs/remotes/origin/\n",
      "week9/choquet-burhat/An-Amharic-News-Text-classification-Dataset/.git/refs/remotes/origin/HEAD\n",
      "week9/choquet-burhat/An-Amharic-News-Text-classification-Dataset/.git/refs/tags/\n",
      "week9/choquet-burhat/An-Amharic-News-Text-classification-Dataset/.gitignore\n",
      "week9/choquet-burhat/An-Amharic-News-Text-classification-Dataset/Amharic-News-Text-classification-Baseline.ipynb\n",
      "week9/choquet-burhat/An-Amharic-News-Text-classification-Dataset/LICENSE\n",
      "week9/choquet-burhat/An-Amharic-News-Text-classification-Dataset/README.md\n",
      "week9/choquet-burhat/An-Amharic-News-Text-classification-Dataset/data/\n",
      "week9/choquet-burhat/An-Amharic-News-Text-classification-Dataset/data/Amharic News Dataset.csv\n",
      "week9/choquet-burhat/An-Amharic-News-Text-classification-Dataset/data/Amharic News Dataset.zip\n",
      "week9/choquet-burhat/groupedByCategory/\n",
      "week9/choquet-burhat/groupedByCategory/._SUCCESS.crc\n",
      "week9/choquet-burhat/groupedByCategory/_SUCCESS\n",
      "week9/choquet-burhat/groupedByCategory/audio=8fc60247-5057-4629-94bc-c06491cf3a4f/\n",
      "week9/choquet-burhat/groupedByCategory/audio=8fc60247-5057-4629-94bc-c06491cf3a4f/.part-00000-8cd424ce-bb9b-4453-a30f-74b22e39260f.c000.csv.crc\n",
      "week9/choquet-burhat/groupedByCategory/audio=8fc60247-5057-4629-94bc-c06491cf3a4f/part-00000-8cd424ce-bb9b-4453-a30f-74b22e39260f.c000.csv\n",
      "week9/choquet-burhat/groupedByaudio/\n",
      "week9/choquet-burhat/groupedByaudio/._SUCCESS.crc\n",
      "week9/choquet-burhat/groupedByaudio/_SUCCESS\n",
      "week9/choquet-burhat/groupedByaudio/audio=8fc60247-5057-4629-94bc-c06491cf3a4f/\n",
      "week9/choquet-burhat/groupedByaudio/audio=8fc60247-5057-4629-94bc-c06491cf3a4f/.part-00000-9b01ab57-5cf4-4a9c-a03a-7b5c8c508fc4.c000.csv.crc\n",
      "week9/choquet-burhat/groupedByaudio/audio=8fc60247-5057-4629-94bc-c06491cf3a4f/part-00000-9b01ab57-5cf4-4a9c-a03a-7b5c8c508fc4.c000.csv\n",
      "week9/choquet-burhat/groupedByaudio/audio=a658979e-8642-4fa4-9fc6-5d48286d6dc4/\n",
      "week9/choquet-burhat/groupedByaudio/audio=a658979e-8642-4fa4-9fc6-5d48286d6dc4/.part-00000-2ea80c63-a9c6-4673-a434-d43c98f18358.c000.csv.crc\n",
      "week9/choquet-burhat/groupedByaudio/audio=a658979e-8642-4fa4-9fc6-5d48286d6dc4/part-00000-2ea80c63-a9c6-4673-a434-d43c98f18358.c000.csv\n",
      "week9/choquet-burhat/groupedbyPopularity/\n",
      "week9/choquet-burhat/groupedbyPopularity/_temporary/\n",
      "week9/choquet-burhat/groupedbyPopularity/_temporary/0/\n",
      "week9/choquet-burhat/groupedbyPopularity/_temporary/0/_temporary/\n",
      "week9/choquet-burhat/view\n"
     ]
    }
   ],
   "source": [
    "for object_summary in s3_bucket_to_transform.objects.filter(Prefix=\"week9/choquet-burhat/\"):\n",
    "    print(object_summary.key)"
   ]
  },
  {
   "cell_type": "markdown",
   "metadata": {},
   "source": [
    "# Conclusion"
   ]
  },
  {
   "cell_type": "markdown",
   "metadata": {},
   "source": [
    "So we can conclude, that yes there is a decrease in the word error rate, meaning we truly achieve our purpose. And then another thing, is that we notice that this action takes seconds, therefore this is really awesome, because we get the best of both worlds. If you enjoyed the article please give me a clap. Thank you"
   ]
  }
 ],
 "metadata": {
  "kernelspec": {
   "display_name": "Python 3 (ipykernel)",
   "language": "python",
   "name": "python3"
  },
  "language_info": {
   "codemirror_mode": {
    "name": "ipython",
    "version": 3
   },
   "file_extension": ".py",
   "mimetype": "text/x-python",
   "name": "python",
   "nbconvert_exporter": "python",
   "pygments_lexer": "ipython3",
   "version": "3.10.4"
  },
  "vscode": {
   "interpreter": {
    "hash": "40dbe6c08ee1f4e62831bdf24b8682651b06990a4ed4c49c23d4d9e6c535dae2"
   }
  }
 },
 "nbformat": 4,
 "nbformat_minor": 4
}
